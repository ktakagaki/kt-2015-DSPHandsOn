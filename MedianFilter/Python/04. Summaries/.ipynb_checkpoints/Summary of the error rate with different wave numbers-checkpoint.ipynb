{
 "cells": [
  {
   "cell_type": "markdown",
   "metadata": {},
   "source": [
    "# Summary of the error rate with different wave numbers(2015.10.14. DW)"
   ]
  },
  {
   "cell_type": "code",
   "execution_count": 1,
   "metadata": {
    "collapsed": false,
    "scrolled": true
   },
   "outputs": [],
   "source": [
    "import numpy as np\n",
    "import matplotlib.pyplot as plt\n",
    "import sys\n",
    "# Add a new path with needed .py files.\n",
    "sys.path.insert(0, 'C:\\Users\\Dominik\\Documents\\GitRep\\kt-2015-DSPHandsOn\\MedianFilter\\Python') \n",
    "\n",
    "import functions\n",
    "import gitInformation"
   ]
  },
  {
   "cell_type": "code",
   "execution_count": 2,
   "metadata": {
    "collapsed": false
   },
   "outputs": [
    {
     "name": "stdout",
     "output_type": "stream",
     "text": [
      "Information about this notebook\n",
      "============================================================\n",
      "Date: 2015-11-10\n",
      "Python Version: 2.7.10 |Anaconda 2.3.0 (64-bit)| (default, May 28 2015, 16:44:52) [MSC v.1500 64 bit (AMD64)]\n",
      "Git directory: C:\\Users\\Dominik\\Documents\\GitRep\\kt-2015-DSPHandsOn\\.git\n",
      "Current git SHA: 3d75389fd98bd111b1e723db4da574f17ba90e9b\n",
      "Remotes: fork, origin, \n",
      "Current branch: master\n",
      "fork remote URL: http://github.com/dowa4213/kt-2015-DSPHandsOn.git\n",
      "origin remote URL: https://github.com/ktakagaki/kt-2015-DSPHandsOn.git\n"
     ]
    }
   ],
   "source": [
    "gitInformation.printInformation()"
   ]
  },
  {
   "cell_type": "code",
   "execution_count": 3,
   "metadata": {
    "collapsed": false
   },
   "outputs": [],
   "source": [
    "% matplotlib inline"
   ]
  },
  {
   "cell_type": "markdown",
   "metadata": {},
   "source": [
    "I want to show that the error rate at wavenumber 16 and 32 is correct or not. I am plotting the error rate and the sine waves, filtered waves and the difference between them at these wave numbers to check, if this is correct."
   ]
  },
  {
   "cell_type": "markdown",
   "metadata": {},
   "source": [
    "#Plots"
   ]
  },
  {
   "cell_type": "code",
   "execution_count": 4,
   "metadata": {
    "collapsed": false
   },
   "outputs": [
    {
     "data": {
      "image/png": "[encoded data removed]",
      "text/plain": [
       "<matplotlib.figure.Figure at 0x16a872b0>"
      ]
     },
     "metadata": {},
     "output_type": "display_data"
    }
   ],
   "source": [
    "fig = plt.figure()\n",
    "for y in range (0, 40, 2):\n",
    "     functions.ErrorPlotWave(y, 5)"
   ]
  }
 ],
 "metadata": {
  "kernelspec": {
   "display_name": "Python 2",
   "language": "python",
   "name": "python2"
  },
  "language_info": {
   "codemirror_mode": {
    "name": "ipython",
    "version": 2
   },
   "file_extension": ".py",
   "mimetype": "text/x-python",
   "name": "python",
   "nbconvert_exporter": "python",
   "pygments_lexer": "ipython2",
   "version": "2.7.10"
  }
 },
 "nbformat": 4,
 "nbformat_minor": 0
}
